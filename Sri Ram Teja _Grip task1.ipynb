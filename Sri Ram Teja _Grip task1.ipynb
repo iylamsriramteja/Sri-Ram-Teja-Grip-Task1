{
 "cells": [
  {
   "cell_type": "markdown",
   "metadata": {
    "colab_type": "text",
    "id": "GzfdMfk10NE6"
   },
   "source": [
    "## **Linear Regression with Python Scikit Learn**\n",
    "In this section we will see how the Python Scikit-Learn library for machine learning can be used to implement regression functions. We will start with simple linear regression involving two variables.\n",
    "\n",
    "### **Simple Linear Regression**\n",
    "In this regression task we will predict the percentage of marks that a student is expected to score based upon the number of hours they studied. This is a simple linear regression task as it involves just two variables."
   ]
  },
  {
   "cell_type": "markdown",
   "metadata": {
    "colab_type": "text",
    "id": "X6A8Hm86UUZ-"
   },
   "source": [
    "### Author: Xaltius Pte. Ltd.\n",
    "Copyright Xaltius Pte. Ltd., 2018\n",
    "\n",
    "**Not for distribution.**"
   ]
  },
  {
   "cell_type": "code",
   "execution_count": 18,
   "metadata": {
    "colab": {},
    "colab_type": "code",
    "id": "V9QN2ZxC38pB"
   },
   "outputs": [],
   "source": [
    "# Importing all libraries required in this notebook\n",
    "import pandas as pd\n",
    "import numpy as np  \n",
    "import matplotlib.pyplot as plt  \n",
    "import seaborn as sb\n",
    "%matplotlib inline"
   ]
  },
  {
   "cell_type": "code",
   "execution_count": 13,
   "metadata": {
    "colab": {
     "base_uri": "https://localhost:8080/",
     "height": 376
    },
    "colab_type": "code",
    "executionInfo": {
     "elapsed": 2534,
     "status": "ok",
     "timestamp": 1544113345787,
     "user": {
      "displayName": "A M Aditya",
      "photoUrl": "https://lh3.googleusercontent.com/-WI8p7JNWLic/AAAAAAAAAAI/AAAAAAAAAfs/vS8ElgH0p0c/s64/photo.jpg",
      "userId": "15341571102300750919"
     },
     "user_tz": -480
    },
    "id": "LtU4YMEhqm9m",
    "outputId": "5b4b36af-1545-497e-a6dc-7658bab71dbc"
   },
   "outputs": [
    {
     "name": "stdout",
     "output_type": "stream",
     "text": [
      "Data imported successfully\n"
     ]
    },
    {
     "data": {
      "text/html": [
       "<div>\n",
       "<style scoped>\n",
       "    .dataframe tbody tr th:only-of-type {\n",
       "        vertical-align: middle;\n",
       "    }\n",
       "\n",
       "    .dataframe tbody tr th {\n",
       "        vertical-align: top;\n",
       "    }\n",
       "\n",
       "    .dataframe thead th {\n",
       "        text-align: right;\n",
       "    }\n",
       "</style>\n",
       "<table border=\"1\" class=\"dataframe\">\n",
       "  <thead>\n",
       "    <tr style=\"text-align: right;\">\n",
       "      <th></th>\n",
       "      <th>Hours</th>\n",
       "      <th>Scores</th>\n",
       "    </tr>\n",
       "  </thead>\n",
       "  <tbody>\n",
       "    <tr>\n",
       "      <th>0</th>\n",
       "      <td>2.5</td>\n",
       "      <td>21</td>\n",
       "    </tr>\n",
       "    <tr>\n",
       "      <th>1</th>\n",
       "      <td>5.1</td>\n",
       "      <td>47</td>\n",
       "    </tr>\n",
       "    <tr>\n",
       "      <th>2</th>\n",
       "      <td>3.2</td>\n",
       "      <td>27</td>\n",
       "    </tr>\n",
       "    <tr>\n",
       "      <th>3</th>\n",
       "      <td>8.5</td>\n",
       "      <td>75</td>\n",
       "    </tr>\n",
       "    <tr>\n",
       "      <th>4</th>\n",
       "      <td>3.5</td>\n",
       "      <td>30</td>\n",
       "    </tr>\n",
       "    <tr>\n",
       "      <th>5</th>\n",
       "      <td>1.5</td>\n",
       "      <td>20</td>\n",
       "    </tr>\n",
       "    <tr>\n",
       "      <th>6</th>\n",
       "      <td>9.2</td>\n",
       "      <td>88</td>\n",
       "    </tr>\n",
       "    <tr>\n",
       "      <th>7</th>\n",
       "      <td>5.5</td>\n",
       "      <td>60</td>\n",
       "    </tr>\n",
       "    <tr>\n",
       "      <th>8</th>\n",
       "      <td>8.3</td>\n",
       "      <td>81</td>\n",
       "    </tr>\n",
       "    <tr>\n",
       "      <th>9</th>\n",
       "      <td>2.7</td>\n",
       "      <td>25</td>\n",
       "    </tr>\n",
       "  </tbody>\n",
       "</table>\n",
       "</div>"
      ],
      "text/plain": [
       "   Hours  Scores\n",
       "0    2.5      21\n",
       "1    5.1      47\n",
       "2    3.2      27\n",
       "3    8.5      75\n",
       "4    3.5      30\n",
       "5    1.5      20\n",
       "6    9.2      88\n",
       "7    5.5      60\n",
       "8    8.3      81\n",
       "9    2.7      25"
      ]
     },
     "execution_count": 13,
     "metadata": {},
     "output_type": "execute_result"
    }
   ],
   "source": [
    "# Reading data from remote link\n",
    "url = \"http://bit.ly/w-data\"\n",
    "data = pd.read_csv(url)\n",
    "print(\"Data imported successfully\")\n",
    "\n",
    "data.head(10)"
   ]
  },
  {
   "cell_type": "code",
   "execution_count": 14,
   "metadata": {},
   "outputs": [
    {
     "name": "stdout",
     "output_type": "stream",
     "text": [
      "<class 'pandas.core.frame.DataFrame'>\n",
      "RangeIndex: 25 entries, 0 to 24\n",
      "Data columns (total 2 columns):\n",
      "Hours     25 non-null float64\n",
      "Scores    25 non-null int64\n",
      "dtypes: float64(1), int64(1)\n",
      "memory usage: 480.0 bytes\n"
     ]
    }
   ],
   "source": [
    "data.info()"
   ]
  },
  {
   "cell_type": "code",
   "execution_count": 15,
   "metadata": {},
   "outputs": [
    {
     "data": {
      "text/html": [
       "<div>\n",
       "<style scoped>\n",
       "    .dataframe tbody tr th:only-of-type {\n",
       "        vertical-align: middle;\n",
       "    }\n",
       "\n",
       "    .dataframe tbody tr th {\n",
       "        vertical-align: top;\n",
       "    }\n",
       "\n",
       "    .dataframe thead th {\n",
       "        text-align: right;\n",
       "    }\n",
       "</style>\n",
       "<table border=\"1\" class=\"dataframe\">\n",
       "  <thead>\n",
       "    <tr style=\"text-align: right;\">\n",
       "      <th></th>\n",
       "      <th>Hours</th>\n",
       "      <th>Scores</th>\n",
       "    </tr>\n",
       "  </thead>\n",
       "  <tbody>\n",
       "    <tr>\n",
       "      <th>0</th>\n",
       "      <td>False</td>\n",
       "      <td>False</td>\n",
       "    </tr>\n",
       "    <tr>\n",
       "      <th>1</th>\n",
       "      <td>False</td>\n",
       "      <td>False</td>\n",
       "    </tr>\n",
       "    <tr>\n",
       "      <th>2</th>\n",
       "      <td>False</td>\n",
       "      <td>False</td>\n",
       "    </tr>\n",
       "    <tr>\n",
       "      <th>3</th>\n",
       "      <td>False</td>\n",
       "      <td>False</td>\n",
       "    </tr>\n",
       "    <tr>\n",
       "      <th>4</th>\n",
       "      <td>False</td>\n",
       "      <td>False</td>\n",
       "    </tr>\n",
       "    <tr>\n",
       "      <th>5</th>\n",
       "      <td>False</td>\n",
       "      <td>False</td>\n",
       "    </tr>\n",
       "    <tr>\n",
       "      <th>6</th>\n",
       "      <td>False</td>\n",
       "      <td>False</td>\n",
       "    </tr>\n",
       "    <tr>\n",
       "      <th>7</th>\n",
       "      <td>False</td>\n",
       "      <td>False</td>\n",
       "    </tr>\n",
       "    <tr>\n",
       "      <th>8</th>\n",
       "      <td>False</td>\n",
       "      <td>False</td>\n",
       "    </tr>\n",
       "    <tr>\n",
       "      <th>9</th>\n",
       "      <td>False</td>\n",
       "      <td>False</td>\n",
       "    </tr>\n",
       "    <tr>\n",
       "      <th>10</th>\n",
       "      <td>False</td>\n",
       "      <td>False</td>\n",
       "    </tr>\n",
       "    <tr>\n",
       "      <th>11</th>\n",
       "      <td>False</td>\n",
       "      <td>False</td>\n",
       "    </tr>\n",
       "    <tr>\n",
       "      <th>12</th>\n",
       "      <td>False</td>\n",
       "      <td>False</td>\n",
       "    </tr>\n",
       "    <tr>\n",
       "      <th>13</th>\n",
       "      <td>False</td>\n",
       "      <td>False</td>\n",
       "    </tr>\n",
       "    <tr>\n",
       "      <th>14</th>\n",
       "      <td>False</td>\n",
       "      <td>False</td>\n",
       "    </tr>\n",
       "    <tr>\n",
       "      <th>15</th>\n",
       "      <td>False</td>\n",
       "      <td>False</td>\n",
       "    </tr>\n",
       "    <tr>\n",
       "      <th>16</th>\n",
       "      <td>False</td>\n",
       "      <td>False</td>\n",
       "    </tr>\n",
       "    <tr>\n",
       "      <th>17</th>\n",
       "      <td>False</td>\n",
       "      <td>False</td>\n",
       "    </tr>\n",
       "    <tr>\n",
       "      <th>18</th>\n",
       "      <td>False</td>\n",
       "      <td>False</td>\n",
       "    </tr>\n",
       "    <tr>\n",
       "      <th>19</th>\n",
       "      <td>False</td>\n",
       "      <td>False</td>\n",
       "    </tr>\n",
       "    <tr>\n",
       "      <th>20</th>\n",
       "      <td>False</td>\n",
       "      <td>False</td>\n",
       "    </tr>\n",
       "    <tr>\n",
       "      <th>21</th>\n",
       "      <td>False</td>\n",
       "      <td>False</td>\n",
       "    </tr>\n",
       "    <tr>\n",
       "      <th>22</th>\n",
       "      <td>False</td>\n",
       "      <td>False</td>\n",
       "    </tr>\n",
       "    <tr>\n",
       "      <th>23</th>\n",
       "      <td>False</td>\n",
       "      <td>False</td>\n",
       "    </tr>\n",
       "    <tr>\n",
       "      <th>24</th>\n",
       "      <td>False</td>\n",
       "      <td>False</td>\n",
       "    </tr>\n",
       "  </tbody>\n",
       "</table>\n",
       "</div>"
      ],
      "text/plain": [
       "    Hours  Scores\n",
       "0   False   False\n",
       "1   False   False\n",
       "2   False   False\n",
       "3   False   False\n",
       "4   False   False\n",
       "5   False   False\n",
       "6   False   False\n",
       "7   False   False\n",
       "8   False   False\n",
       "9   False   False\n",
       "10  False   False\n",
       "11  False   False\n",
       "12  False   False\n",
       "13  False   False\n",
       "14  False   False\n",
       "15  False   False\n",
       "16  False   False\n",
       "17  False   False\n",
       "18  False   False\n",
       "19  False   False\n",
       "20  False   False\n",
       "21  False   False\n",
       "22  False   False\n",
       "23  False   False\n",
       "24  False   False"
      ]
     },
     "execution_count": 15,
     "metadata": {},
     "output_type": "execute_result"
    }
   ],
   "source": [
    "data.isnull()"
   ]
  },
  {
   "cell_type": "markdown",
   "metadata": {
    "colab_type": "text",
    "id": "RHsPneuM4NgB"
   },
   "source": [
    "Let's plot our data points on 2-D graph to eyeball our dataset and see if we can manually find any relationship between the data. We can create the plot with the following script:"
   ]
  },
  {
   "cell_type": "code",
   "execution_count": 16,
   "metadata": {
    "colab": {
     "base_uri": "https://localhost:8080/",
     "height": 294
    },
    "colab_type": "code",
    "executionInfo": {
     "elapsed": 718,
     "status": "ok",
     "timestamp": 1544113350499,
     "user": {
      "displayName": "A M Aditya",
      "photoUrl": "https://lh3.googleusercontent.com/-WI8p7JNWLic/AAAAAAAAAAI/AAAAAAAAAfs/vS8ElgH0p0c/s64/photo.jpg",
      "userId": "15341571102300750919"
     },
     "user_tz": -480
    },
    "id": "qxYBZkhAqpn9",
    "outputId": "37264af1-786d-4e0c-a668-383264d1ddd1"
   },
   "outputs": [
    {
     "data": {
      "text/plain": [
       "Text(0, 0.5, 'Scores')"
      ]
     },
     "execution_count": 16,
     "metadata": {},
     "output_type": "execute_result"
    },
    {
     "data": {
      "image/png": "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\n",
      "text/plain": [
       "<Figure size 720x360 with 1 Axes>"
      ]
     },
     "metadata": {
      "needs_background": "light"
     },
     "output_type": "display_data"
    }
   ],
   "source": [
    "# Plotting the distribution of scores\n",
    "plt.figure(figsize=(10,5))\n",
    "plt.scatter(x=data['Hours'],y=data['Scores'])\n",
    "plt.title('Relationship between Hours to study and Scores obtained')\n",
    "plt.xlabel('Hours')\n",
    "plt.ylabel('Scores')"
   ]
  },
  {
   "cell_type": "code",
   "execution_count": 21,
   "metadata": {},
   "outputs": [
    {
     "data": {
      "text/plain": [
       "Text(0, 0.5, 'Scores')"
      ]
     },
     "execution_count": 21,
     "metadata": {},
     "output_type": "execute_result"
    },
    {
     "data": {
      "image/png": "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\n",
      "text/plain": [
       "<Figure size 432x288 with 1 Axes>"
      ]
     },
     "metadata": {
      "needs_background": "light"
     },
     "output_type": "display_data"
    }
   ],
   "source": [
    "sb.regplot(x=data['Hours'],y=data['Scores'])\n",
    "plt.title('Relationship between Hours to study and Scores obtained')\n",
    "plt.xlabel('Hours')\n",
    "plt.ylabel('Scores')"
   ]
  },
  {
   "cell_type": "code",
   "execution_count": 26,
   "metadata": {},
   "outputs": [],
   "source": [
    "x= data[['Hours']]\n",
    "y=data[['Scores']]"
   ]
  },
  {
   "cell_type": "markdown",
   "metadata": {
    "colab_type": "text",
    "id": "fiQaULio4Rzr"
   },
   "source": [
    "**From the graph above, we can clearly see that there is a positive linear relation between the number of hours studied and percentage of score.**"
   ]
  },
  {
   "cell_type": "markdown",
   "metadata": {
    "colab_type": "text",
    "id": "WWtEr64M4jdz"
   },
   "source": [
    "### **Preparing the data**\n",
    "\n",
    "The next step is to divide the data into \"attributes\" (inputs) and \"labels\" (outputs)."
   ]
  },
  {
   "cell_type": "markdown",
   "metadata": {
    "colab_type": "text",
    "id": "Riz-ZiZ34fO4"
   },
   "source": [
    "Now that we have our attributes and labels, the next step is to split this data into training and test sets. We'll do this by using Scikit-Learn's built-in train_test_split() method:"
   ]
  },
  {
   "cell_type": "code",
   "execution_count": 43,
   "metadata": {
    "colab": {},
    "colab_type": "code",
    "id": "udFYso1M4BNw"
   },
   "outputs": [],
   "source": [
    "from sklearn.model_selection import train_test_split  \n",
    "x_train, x_test, y_train, y_test = train_test_split(x, y, \n",
    "                            test_size=0.2, random_state=101) "
   ]
  },
  {
   "cell_type": "markdown",
   "metadata": {
    "colab_type": "text",
    "id": "a6WXptFU5CkC"
   },
   "source": [
    "### **Training the Algorithm**\n",
    "We have split our data into training and testing sets, and now is finally the time to train our algorithm. "
   ]
  },
  {
   "cell_type": "code",
   "execution_count": 54,
   "metadata": {
    "colab": {
     "base_uri": "https://localhost:8080/",
     "height": 34
    },
    "colab_type": "code",
    "executionInfo": {
     "elapsed": 701,
     "status": "ok",
     "timestamp": 1544113358086,
     "user": {
      "displayName": "A M Aditya",
      "photoUrl": "https://lh3.googleusercontent.com/-WI8p7JNWLic/AAAAAAAAAAI/AAAAAAAAAfs/vS8ElgH0p0c/s64/photo.jpg",
      "userId": "15341571102300750919"
     },
     "user_tz": -480
    },
    "id": "qddCuaS84fpK",
    "outputId": "befbd977-772c-4bd1-bb48-ee5dd6bae73c"
   },
   "outputs": [],
   "source": [
    "from sklearn.linear_model import LinearRegression  \n",
    "lg = LinearRegression()  \n",
    "mk=lg.fit(x_train, y_train) \n",
    "\n"
   ]
  },
  {
   "cell_type": "code",
   "execution_count": 78,
   "metadata": {
    "colab": {
     "base_uri": "https://localhost:8080/",
     "height": 265
    },
    "colab_type": "code",
    "executionInfo": {
     "elapsed": 985,
     "status": "ok",
     "timestamp": 1544113360867,
     "user": {
      "displayName": "A M Aditya",
      "photoUrl": "https://lh3.googleusercontent.com/-WI8p7JNWLic/AAAAAAAAAAI/AAAAAAAAAfs/vS8ElgH0p0c/s64/photo.jpg",
      "userId": "15341571102300750919"
     },
     "user_tz": -480
    },
    "id": "J61NX2_2-px7",
    "outputId": "d20ec1fd-3e2d-4eae-84a2-a0df57d31009"
   },
   "outputs": [
    {
     "data": {
      "text/plain": [
       "Text(0, 0.5, 'Scores')"
      ]
     },
     "execution_count": 78,
     "metadata": {},
     "output_type": "execute_result"
    },
    {
     "data": {
      "image/png": "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\n",
      "text/plain": [
       "<Figure size 432x288 with 1 Axes>"
      ]
     },
     "metadata": {
      "needs_background": "light"
     },
     "output_type": "display_data"
    }
   ],
   "source": [
    "# Plotting the regression line\n",
    "line = lg.coef_*x+lg.intercept_\n",
    "\n",
    "# Plotting for the test data\n",
    "plt.scatter(x, y)\n",
    "plt.plot(x, line)\n",
    "plt.title('Relationship between Hours to study and Scores obtained')\n",
    "plt.xlabel('Hours')\n",
    "plt.ylabel('Scores')\n"
   ]
  },
  {
   "cell_type": "markdown",
   "metadata": {
    "colab_type": "text",
    "id": "JCQn-g4m5OK2"
   },
   "source": [
    "### **Making Predictions**\n",
    "Now that we have trained our algorithm, it's time to make some predictions."
   ]
  },
  {
   "cell_type": "code",
   "execution_count": 58,
   "metadata": {
    "colab": {
     "base_uri": "https://localhost:8080/",
     "height": 102
    },
    "colab_type": "code",
    "executionInfo": {
     "elapsed": 698,
     "status": "ok",
     "timestamp": 1544113363729,
     "user": {
      "displayName": "A M Aditya",
      "photoUrl": "https://lh3.googleusercontent.com/-WI8p7JNWLic/AAAAAAAAAAI/AAAAAAAAAfs/vS8ElgH0p0c/s64/photo.jpg",
      "userId": "15341571102300750919"
     },
     "user_tz": -480
    },
    "id": "Tt-Fmzu55EGM",
    "outputId": "46f1acf8-91ac-4984-cfbe-e614aa9ea849"
   },
   "outputs": [
    {
     "name": "stdout",
     "output_type": "stream",
     "text": [
      "0.954930331163377\n",
      "0.9377551740781869\n"
     ]
    }
   ],
   "source": [
    "h=lg.score(x_train,y_train)\n",
    "print(h)\n",
    "k=lg.score(xtest,y_test)\n",
    "print(k)\n",
    "f=lg.fit(x_test,y_test)"
   ]
  },
  {
   "cell_type": "code",
   "execution_count": 64,
   "metadata": {},
   "outputs": [
    {
     "name": "stdout",
     "output_type": "stream",
     "text": [
      "enter no of hours:5.2\n",
      " Marks : [[54.0053286]]\n",
      
     ]
    }
   ],
   "source": [
    "hours = float(input(\"enter no of hours:\" ))\n",
    "marks = mk.predict([[hours]])\n",
     "print(\" Marks :\",marks)\n"]
  },
  {
   "cell_type": "markdown",
   "metadata": {
    "colab_type": "text",
    "id": "0AAsPVA_6KmK"
   },
   "source": [
    "### **Evaluating the model**\n",
    "\n",
    "The final step is to evaluate the performance of algorithm. This step is particularly important to compare how well different algorithms perform on a particular dataset. For simplicity here, we have chosen the mean square error,r2_score,max error,mean absolute error. There are many such metrics."
   ]
  },
  {
   "cell_type": "code",
   "execution_count": 75,
   "metadata": {
    "colab": {
     "base_uri": "https://localhost:8080/",
     "height": 34
    },
    "colab_type": "code",
    "executionInfo": {
     "elapsed": 834,
     "status": "ok",
     "timestamp": 1544113374919,
     "user": {
      "displayName": "A M Aditya",
      "photoUrl": "https://lh3.googleusercontent.com/-WI8p7JNWLic/AAAAAAAAAAI/AAAAAAAAAfs/vS8ElgH0p0c/s64/photo.jpg",
      "userId": "15341571102300750919"
     },
     "user_tz": -480
    },
    "id": "r5UOrRH-5VCQ",
    "outputId": "7b9ddcf1-2848-408f-d81f-7a60652c381e"
   },
   "outputs": [
    {
     "name": "stdout",
     "output_type": "stream",
     "text": [
      "MAE:  4.7947898164594465\n",
      "r2_score:  0.9402733628847035\n",
      "MSE : 25.596447602131466\n",
      "ME : 6.940201302545887\n"
     ]
    }
   ],
   "source": [
    "ypred=lg.predict(x_test)\n",
    "from sklearn import metrics  \n",
    "print('MAE: ',metrics.mean_absolute_error(ytest, ypred))\n",
    "print('r2_score: ',metrics.r2_score(ytest, ypred))\n",
    "print('MSE :',metrics.mean_squared_error(ytest, ypred))\n",
    "print('ME :',metrics.max_error(ytest, ypred))"
   ]
  },
  {
   "cell_type": "code",
   "execution_count": null,
   "metadata": {},
   "outputs": [],
   "source": []
  },
  {
   "cell_type": "code",
   "execution_count": null,
   "metadata": {},
   "outputs": [],
   "source": []
  }
 ],
 "metadata": {
  "colab": {
   "collapsed_sections": [],
   "name": "Linear Regression.ipynb",
   "provenance": [
    {
     "file_id": "1wzD9Aa7cc7kRwyXq8DeJ8H56mJInOMZN",
     "timestamp": 1544113281508
    }
   ],
   "version": "0.3.2"
  },
  "kernelspec": {
   "display_name": "Python 3",
   "language": "python",
   "name": "python3"
  },
  "language_info": {
   "codemirror_mode": {
    "name": "ipython",
    "version": 3
   },
   "file_extension": ".py",
   "mimetype": "text/x-python",
   "name": "python",
   "nbconvert_exporter": "python",
   "pygments_lexer": "ipython3",
   "version": "3.7.3"
  }
 },
 "nbformat": 4,
 "nbformat_minor": 1
}
